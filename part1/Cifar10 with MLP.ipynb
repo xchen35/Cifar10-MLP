{
 "cells": [
  {
   "cell_type": "code",
   "execution_count": 1,
   "metadata": {},
   "outputs": [
    {
     "name": "stderr",
     "output_type": "stream",
     "text": [
      "Using TensorFlow backend.\n"
     ]
    }
   ],
   "source": [
    "from __future__ import print_function\n",
    "import numpy as np\n",
    "import keras\n",
    "from keras.models import Sequential\n",
    "from keras.layers import Dense, Dropout\n",
    "from keras.optimizers import RMSprop"
   ]
  },
  {
   "cell_type": "code",
   "execution_count": 2,
   "metadata": {},
   "outputs": [],
   "source": [
    "def unpickle(file):\n",
    "    import pickle\n",
    "    with open(file, 'rb') as fo:\n",
    "        dict = pickle.load(fo, encoding='bytes')\n",
    "    return dict"
   ]
  },
  {
   "cell_type": "code",
   "execution_count": 3,
   "metadata": {},
   "outputs": [],
   "source": [
    "cifar10_1 = unpickle(\"cifar-10-batches-py/data_batch_1\")\n",
    "cifar10_2 = unpickle(\"cifar-10-batches-py/data_batch_2\")\n",
    "cifar10_3 = unpickle(\"cifar-10-batches-py/data_batch_3\")\n",
    "cifar10_4 = unpickle(\"cifar-10-batches-py/data_batch_4\")\n",
    "cifar10_5 = unpickle(\"cifar-10-batches-py/data_batch_5\")\n",
    "cifar10_test = unpickle(\"cifar-10-batches-py/test_batch\")"
   ]
  },
  {
   "cell_type": "code",
   "execution_count": 4,
   "metadata": {},
   "outputs": [],
   "source": [
    "cifar10_rgb = np.concatenate((cifar10_1[b'data'],cifar10_2[b'data'],cifar10_3[b'data'],cifar10_4[b'data'],cifar10_5[b'data']))\n",
    "cifar10_labels = np.concatenate((cifar10_1[b'labels'],cifar10_2[b'labels'],cifar10_3[b'labels'],cifar10_4[b'labels'],cifar10_5[b'labels']))"
   ]
  },
  {
   "cell_type": "code",
   "execution_count": 5,
   "metadata": {},
   "outputs": [],
   "source": [
    "#cifar10cifar10_1[b'data'].shape\n",
    "#cifar10_test\n",
    "\n",
    "cifar10_test_rgb = cifar10_test[b'data']\n",
    "cirfar10_test_labels = cifar10_test[b'labels']"
   ]
  },
  {
   "cell_type": "code",
   "execution_count": 6,
   "metadata": {},
   "outputs": [],
   "source": [
    "# setup base epochs and batach_size\n",
    "\n",
    "batch_size = 128\n",
    "num_classes = 10\n",
    "epochs = 8"
   ]
  },
  {
   "cell_type": "code",
   "execution_count": 7,
   "metadata": {},
   "outputs": [],
   "source": [
    "x_train, y_train, x_test, y_test = cifar10_rgb, cifar10_labels, cifar10_test_rgb, cirfar10_test_labels"
   ]
  },
  {
   "cell_type": "code",
   "execution_count": 8,
   "metadata": {},
   "outputs": [
    {
     "name": "stdout",
     "output_type": "stream",
     "text": [
      "50000 train samples\n",
      "10000 test samples\n"
     ]
    }
   ],
   "source": [
    "x_train = x_train.reshape(50000, 32 * 32 * 3)\n",
    "x_test = x_test.reshape(10000, 32 * 32 * 3)\n",
    "x_train = x_train.astype('float32')\n",
    "x_test = x_test.astype('float32')\n",
    "x_train /= 255\n",
    "x_test /= 255\n",
    "print(x_train.shape[0], 'train samples')\n",
    "print(x_test.shape[0], 'test samples')"
   ]
  },
  {
   "cell_type": "code",
   "execution_count": 9,
   "metadata": {},
   "outputs": [],
   "source": [
    "# convert class vectors to binary class matrices\n",
    "y_train = keras.utils.to_categorical(y_train, num_classes)\n",
    "y_test = keras.utils.to_categorical(y_test, num_classes)"
   ]
  },
  {
   "cell_type": "code",
   "execution_count": 10,
   "metadata": {},
   "outputs": [
    {
     "name": "stderr",
     "output_type": "stream",
     "text": [
      "/Users/xiangyuchen/anaconda3/lib/python3.6/site-packages/keras/activations.py:211: UserWarning: Do not pass a layer instance (such as ELU) as the activation argument of another layer. Instead, advanced activation layers should be used just like any other layer in a model.\n",
      "  identifier=identifier.__class__.__name__))\n"
     ]
    }
   ],
   "source": [
    "model = Sequential()\n",
    "act = keras.layers.ELU(alpha=1.0)\n",
    "model.add(Dense(256, activation=act, input_shape=(32 * 32 * 3,)))\n",
    "model.add(Dropout(0.2))\n",
    "model.add(Dense(256, activation=act))\n",
    "model.add(Dropout(0.2))\n",
    "model.add(Dense(num_classes, activation='softmax'))"
   ]
  },
  {
   "cell_type": "code",
   "execution_count": 13,
   "metadata": {},
   "outputs": [
    {
     "name": "stdout",
     "output_type": "stream",
     "text": [
      "_________________________________________________________________\n",
      "Layer (type)                 Output Shape              Param #   \n",
      "=================================================================\n",
      "dense_1 (Dense)              (None, 256)               786688    \n",
      "_________________________________________________________________\n",
      "dropout_1 (Dropout)          (None, 256)               0         \n",
      "_________________________________________________________________\n",
      "dense_2 (Dense)              (None, 256)               65792     \n",
      "_________________________________________________________________\n",
      "dropout_2 (Dropout)          (None, 256)               0         \n",
      "_________________________________________________________________\n",
      "dense_3 (Dense)              (None, 10)                2570      \n",
      "=================================================================\n",
      "Total params: 855,050\n",
      "Trainable params: 855,050\n",
      "Non-trainable params: 0\n",
      "_________________________________________________________________\n",
      "Train on 50000 samples, validate on 10000 samples\n",
      "Epoch 1/8\n",
      "50000/50000 [==============================] - 10s 198us/step - loss: 1.4751 - acc: 0.4746 - iouMetric: 0.2448 - val_loss: 1.4214 - val_acc: 0.4851 - val_iouMetric: 0.2556\n",
      "Epoch 2/8\n",
      "50000/50000 [==============================] - 8s 163us/step - loss: 1.4498 - acc: 0.4813 - iouMetric: 0.2518 - val_loss: 1.4405 - val_acc: 0.4828 - val_iouMetric: 0.2443\n",
      "Epoch 3/8\n",
      "50000/50000 [==============================] - 9s 175us/step - loss: 1.4288 - acc: 0.4907 - iouMetric: 0.2640 - val_loss: 1.4740 - val_acc: 0.4816 - val_iouMetric: 0.2740\n",
      "Epoch 4/8\n",
      "50000/50000 [==============================] - 9s 185us/step - loss: 1.4164 - acc: 0.4972 - iouMetric: 0.2714 - val_loss: 1.4287 - val_acc: 0.4902 - val_iouMetric: 0.2772\n",
      "Epoch 5/8\n",
      "50000/50000 [==============================] - 8s 165us/step - loss: 1.4021 - acc: 0.5014 - iouMetric: 0.2743 - val_loss: 1.4237 - val_acc: 0.4913 - val_iouMetric: 0.2556\n",
      "Epoch 6/8\n",
      "50000/50000 [==============================] - 9s 175us/step - loss: 1.3848 - acc: 0.5065 - iouMetric: 0.2820 - val_loss: 1.4416 - val_acc: 0.4830 - val_iouMetric: 0.2750\n",
      "Epoch 7/8\n",
      "50000/50000 [==============================] - 8s 168us/step - loss: 1.3702 - acc: 0.5093 - iouMetric: 0.2895 - val_loss: 1.4296 - val_acc: 0.4836 - val_iouMetric: 0.2683\n",
      "Epoch 8/8\n",
      "50000/50000 [==============================] - 9s 175us/step - loss: 1.3563 - acc: 0.5167 - iouMetric: 0.2966 - val_loss: 1.4272 - val_acc: 0.4838 - val_iouMetric: 0.2785\n",
      "Test loss: 1.4271545808792114\n",
      "Test accuracy: 0.4838\n",
      "Test IOU: 0.2807393448829651\n"
     ]
    }
   ],
   "source": [
    "model.summary()\n",
    "from keras import metrics\n",
    "import keras.backend as K\n",
    "def iouMetric(y_true, y_pred):\n",
    "    pred = K.cast(K.greater(y_pred, 0.5), K.floatx())\n",
    "    union = K.cast(K.greater(y_true + pred, 0), K.floatx())\n",
    "    intersec = y_true * pred\n",
    "    iou = K.sum(intersec) / (K.sum(union) + K.epsilon())\n",
    "\n",
    "    return iou\n",
    "\n",
    "model.compile(loss='categorical_crossentropy',\n",
    "              optimizer=RMSprop(),\n",
    "              metrics=['accuracy', iouMetric])\n",
    "\n",
    "history = model.fit(x_train, y_train,\n",
    "                    batch_size=batch_size,\n",
    "                    epochs=epochs,\n",
    "                    verbose=1,\n",
    "                    validation_data=(x_test, y_test))\n",
    "score = model.evaluate(x_test, y_test, verbose=0)\n",
    "print('Test loss:', score[0])\n",
    "print('Test accuracy:', score[1])\n",
    "print('Test IOU:', score[2])"
   ]
  },
  {
   "cell_type": "code",
   "execution_count": null,
   "metadata": {},
   "outputs": [],
   "source": []
  }
 ],
 "metadata": {
  "kernelspec": {
   "display_name": "Python 3",
   "language": "python",
   "name": "python3"
  },
  "language_info": {
   "codemirror_mode": {
    "name": "ipython",
    "version": 3
   },
   "file_extension": ".py",
   "mimetype": "text/x-python",
   "name": "python",
   "nbconvert_exporter": "python",
   "pygments_lexer": "ipython3",
   "version": "3.6.8"
  }
 },
 "nbformat": 4,
 "nbformat_minor": 2
}
