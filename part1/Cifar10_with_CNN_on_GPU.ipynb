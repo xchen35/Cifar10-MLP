{
  "nbformat": 4,
  "nbformat_minor": 0,
  "metadata": {
    "colab": {
      "name": "Cifar10 with CNN on GPU.ipynb",
      "version": "0.3.2",
      "provenance": [],
      "include_colab_link": true
    },
    "kernelspec": {
      "name": "python3",
      "display_name": "Python 3"
    },
    "accelerator": "GPU"
  },
  "cells": [
    {
      "cell_type": "markdown",
      "metadata": {
        "id": "view-in-github",
        "colab_type": "text"
      },
      "source": [
        "<a href=\"https://colab.research.google.com/github/xchen35/Cifar10-MLP/blob/master/Cifar10_with_CNN_on_GPU.ipynb\" target=\"_parent\"><img src=\"https://colab.research.google.com/assets/colab-badge.svg\" alt=\"Open In Colab\"/></a>"
      ]
    },
    {
      "metadata": {
        "id": "mLXIVHm4sDAa",
        "colab_type": "code",
        "outputId": "b062a0d9-2d71-44a3-db2a-e47f2f2ddbe2",
        "colab": {
          "base_uri": "https://localhost:8080/",
          "height": 34
        }
      },
      "cell_type": "code",
      "source": [
        "from __future__ import print_function\n",
        "import keras\n",
        "from keras import metrics\n",
        "from keras.datasets import cifar10\n",
        "from keras.preprocessing.image import ImageDataGenerator\n",
        "from keras.models import Sequential\n",
        "from keras.layers import Dense, Dropout, Activation, Flatten\n",
        "from keras.layers import Conv2D, MaxPooling2D\n",
        "import os"
      ],
      "execution_count": 1,
      "outputs": [
        {
          "output_type": "stream",
          "text": [
            "Using TensorFlow backend.\n"
          ],
          "name": "stderr"
        }
      ]
    },
    {
      "metadata": {
        "id": "Ut0LZubUsDAi",
        "colab_type": "code",
        "colab": {}
      },
      "cell_type": "code",
      "source": [
        "#base setup\n",
        "batch_size = 64\n",
        "num_classes = 10\n",
        "epochs = 20\n",
        "data_augmentation = True\n",
        "num_predictions = 20\n",
        "save_dir = os.path.join(os.getcwd(), 'saved_models')\n",
        "model_name = 'keras_cifar10_trained_model.h5'"
      ],
      "execution_count": 0,
      "outputs": []
    },
    {
      "metadata": {
        "id": "mE-jRdhssDAs",
        "colab_type": "code",
        "outputId": "f4dcc229-28b3-4c64-d112-abfce8a49b0c",
        "colab": {
          "base_uri": "https://localhost:8080/",
          "height": 102
        }
      },
      "cell_type": "code",
      "source": [
        "# The data, split between train and test sets:\n",
        "(x_train, y_train), (x_test, y_test) = cifar10.load_data()\n",
        "print('x_train shape:', x_train.shape)\n",
        "print(x_train.shape[0], 'train samples')\n",
        "print(x_test.shape[0], 'test samples')"
      ],
      "execution_count": 3,
      "outputs": [
        {
          "output_type": "stream",
          "text": [
            "Downloading data from https://www.cs.toronto.edu/~kriz/cifar-10-python.tar.gz\n",
            "170500096/170498071 [==============================] - 18s 0us/step\n",
            "x_train shape: (50000, 32, 32, 3)\n",
            "50000 train samples\n",
            "10000 test samples\n"
          ],
          "name": "stdout"
        }
      ]
    },
    {
      "metadata": {
        "id": "LLBx3q77sDA2",
        "colab_type": "code",
        "colab": {}
      },
      "cell_type": "code",
      "source": [
        "y_train = keras.utils.to_categorical(y_train, num_classes)\n",
        "y_test = keras.utils.to_categorical(y_test, num_classes)"
      ],
      "execution_count": 0,
      "outputs": []
    },
    {
      "metadata": {
        "id": "NyYzNhxdsDA-",
        "colab_type": "code",
        "colab": {}
      },
      "cell_type": "code",
      "source": [
        "\n",
        "model = Sequential()\n",
        "model.add(Conv2D(32, (3, 3), padding='same',\n",
        "                 input_shape=x_train.shape[1:]))\n",
        "model.add(Activation('elu'))\n",
        "model.add(Conv2D(32, (3, 3)))\n",
        "model.add(Activation('elu'))\n",
        "model.add(MaxPooling2D(pool_size=(2, 2)))\n",
        "model.add(Dropout(0.25))\n",
        "\n",
        "model.add(Conv2D(64, (3, 3), padding='same'))\n",
        "model.add(Activation('elu'))\n",
        "model.add(Conv2D(64, (3, 3)))\n",
        "model.add(Activation('elu'))\n",
        "model.add(MaxPooling2D(pool_size=(2, 2)))\n",
        "model.add(Dropout(0.25))\n",
        "\n",
        "model.add(Flatten())\n",
        "model.add(Dense(512))\n",
        "model.add(Activation('elu'))\n",
        "model.add(Dropout(0.5))\n",
        "model.add(Dense(num_classes))\n",
        "model.add(Activation('softmax'))\n",
        "\n",
        "# initiate RMSprop optimizer\n",
        "opt = keras.optimizers.rmsprop(lr=0.0001, decay=1e-6)\n",
        "\n",
        "# Let's train the model using RMSprop\n",
        "from keras import metrics\n",
        "model.compile(loss='categorical_crossentropy',\n",
        "              optimizer=opt,\n",
        "              metrics=['accuracy', metrics.top_k_categorical_accuracy])\n",
        "\n",
        "x_train = x_train.astype('float32')\n",
        "x_test = x_test.astype('float32')\n",
        "x_train /= 255\n",
        "x_test /= 255"
      ],
      "execution_count": 0,
      "outputs": []
    },
    {
      "metadata": {
        "id": "2IHJxTY1sDBG",
        "colab_type": "code",
        "outputId": "3f9094d8-b3a2-4607-cfad-a550e0943348",
        "colab": {
          "base_uri": "https://localhost:8080/",
          "height": 714
        }
      },
      "cell_type": "code",
      "source": [
        "if not data_augmentation:\n",
        "    print('Not using data augmentation.')\n",
        "    model.fit(x_train, y_train,\n",
        "              batch_size=batch_size,\n",
        "              epochs=epochs,\n",
        "              validation_data=(x_test, y_test),\n",
        "              shuffle=True)\n",
        "else:\n",
        "    print('Using real-time data augmentation.')\n",
        "    # This will do preprocessing and realtime data augmentation:\n",
        "    datagen = ImageDataGenerator(\n",
        "        featurewise_center=False,  # set input mean to 0 over the dataset\n",
        "        samplewise_center=False,  # set each sample mean to 0\n",
        "        featurewise_std_normalization=False,  # divide inputs by std of the dataset\n",
        "        samplewise_std_normalization=False,  # divide each input by its std\n",
        "        zca_whitening=False,  # apply ZCA whitening\n",
        "        zca_epsilon=1e-06,  # epsilon for ZCA whitening\n",
        "        rotation_range=0,  # randomly rotate images in the range (degrees, 0 to 180)\n",
        "        # randomly shift images horizontally (fraction of total width)\n",
        "        width_shift_range=0.1,\n",
        "        # randomly shift images vertically (fraction of total height)\n",
        "        height_shift_range=0.1,\n",
        "        shear_range=0.,  # set range for random shear\n",
        "        zoom_range=0.,  # set range for random zoom\n",
        "        channel_shift_range=0.,  # set range for random channel shifts\n",
        "        # set mode for filling points outside the input boundaries\n",
        "        fill_mode='nearest',\n",
        "        cval=0.,  # value used for fill_mode = \"constant\"\n",
        "        horizontal_flip=True,  # randomly flip images\n",
        "        vertical_flip=False,  # randomly flip images\n",
        "        # set rescaling factor (applied before any other transformation)\n",
        "        rescale=None,\n",
        "        # set function that will be applied on each input\n",
        "        preprocessing_function=None,\n",
        "        # image data format, either \"channels_first\" or \"channels_last\"\n",
        "        data_format=None,\n",
        "        # fraction of images reserved for validation (strictly between 0 and 1)\n",
        "        validation_split=0.0)\n",
        "\n",
        "    # Compute quantities required for feature-wise normalization\n",
        "    # (std, mean, and principal components if ZCA whitening is applied).\n",
        "    datagen.fit(x_train)\n",
        "\n",
        "    # Fit the model on the batches generated by datagen.flow().\n",
        "    model.fit_generator(datagen.flow(x_train, y_train,\n",
        "                                     batch_size=batch_size),\n",
        "                        epochs=epochs, steps_per_epoch=1563,\n",
        "                        validation_data=(x_test, y_test),\n",
        "                        workers=4)\n",
        "\n"
      ],
      "execution_count": 6,
      "outputs": [
        {
          "output_type": "stream",
          "text": [
            "Using real-time data augmentation.\n",
            "Epoch 1/20\n",
            "1563/1563 [==============================] - 83s 53ms/step - loss: 1.6759 - acc: 0.4013 - top_k_categorical_accuracy: 0.8740 - val_loss: 1.5804 - val_acc: 0.4436 - val_top_k_categorical_accuracy: 0.9044\n",
            "Epoch 2/20\n",
            "1563/1563 [==============================] - 78s 50ms/step - loss: 1.4235 - acc: 0.4970 - top_k_categorical_accuracy: 0.9256 - val_loss: 1.2483 - val_acc: 0.5636 - val_top_k_categorical_accuracy: 0.9400\n",
            "Epoch 3/20\n",
            "1563/1563 [==============================] - 78s 50ms/step - loss: 1.3266 - acc: 0.5358 - top_k_categorical_accuracy: 0.9379 - val_loss: 1.1296 - val_acc: 0.6122 - val_top_k_categorical_accuracy: 0.9557\n",
            "Epoch 4/20\n",
            "1563/1563 [==============================] - 78s 50ms/step - loss: 1.2640 - acc: 0.5581 - top_k_categorical_accuracy: 0.9440 - val_loss: 1.1648 - val_acc: 0.5969 - val_top_k_categorical_accuracy: 0.9531\n",
            "Epoch 5/20\n",
            "1563/1563 [==============================] - 79s 51ms/step - loss: 1.2239 - acc: 0.5752 - top_k_categorical_accuracy: 0.9467 - val_loss: 1.1378 - val_acc: 0.6030 - val_top_k_categorical_accuracy: 0.9581\n",
            "Epoch 6/20\n",
            "1563/1563 [==============================] - 80s 51ms/step - loss: 1.1870 - acc: 0.5881 - top_k_categorical_accuracy: 0.9521 - val_loss: 1.0488 - val_acc: 0.6371 - val_top_k_categorical_accuracy: 0.9621\n",
            "Epoch 7/20\n",
            "1563/1563 [==============================] - 79s 51ms/step - loss: 1.1539 - acc: 0.5995 - top_k_categorical_accuracy: 0.9551 - val_loss: 1.0393 - val_acc: 0.6402 - val_top_k_categorical_accuracy: 0.9622\n",
            "Epoch 8/20\n",
            "1563/1563 [==============================] - 79s 51ms/step - loss: 1.1313 - acc: 0.6090 - top_k_categorical_accuracy: 0.9565 - val_loss: 0.9925 - val_acc: 0.6547 - val_top_k_categorical_accuracy: 0.9661\n",
            "Epoch 9/20\n",
            "1563/1563 [==============================] - 80s 51ms/step - loss: 1.1064 - acc: 0.6180 - top_k_categorical_accuracy: 0.9588 - val_loss: 0.9850 - val_acc: 0.6567 - val_top_k_categorical_accuracy: 0.9690\n",
            "Epoch 10/20\n",
            "1563/1563 [==============================] - 79s 50ms/step - loss: 1.0849 - acc: 0.6231 - top_k_categorical_accuracy: 0.9604 - val_loss: 0.9395 - val_acc: 0.6735 - val_top_k_categorical_accuracy: 0.9694\n",
            "Epoch 11/20\n",
            "1563/1563 [==============================] - 79s 51ms/step - loss: 1.0623 - acc: 0.6307 - top_k_categorical_accuracy: 0.9629 - val_loss: 0.9171 - val_acc: 0.6842 - val_top_k_categorical_accuracy: 0.9718\n",
            "Epoch 12/20\n",
            "1563/1563 [==============================] - 82s 52ms/step - loss: 1.0388 - acc: 0.6403 - top_k_categorical_accuracy: 0.9639 - val_loss: 0.9163 - val_acc: 0.6806 - val_top_k_categorical_accuracy: 0.9721\n",
            "Epoch 13/20\n",
            "1563/1563 [==============================] - 84s 53ms/step - loss: 1.0127 - acc: 0.6492 - top_k_categorical_accuracy: 0.9659 - val_loss: 0.8848 - val_acc: 0.6952 - val_top_k_categorical_accuracy: 0.9755\n",
            "Epoch 14/20\n",
            "1563/1563 [==============================] - 81s 52ms/step - loss: 0.9961 - acc: 0.6549 - top_k_categorical_accuracy: 0.9684 - val_loss: 0.8420 - val_acc: 0.7090 - val_top_k_categorical_accuracy: 0.9774\n",
            "Epoch 15/20\n",
            "1563/1563 [==============================] - 80s 51ms/step - loss: 0.9750 - acc: 0.6614 - top_k_categorical_accuracy: 0.9686 - val_loss: 0.8405 - val_acc: 0.7124 - val_top_k_categorical_accuracy: 0.9763\n",
            "Epoch 16/20\n",
            "1563/1563 [==============================] - 82s 52ms/step - loss: 0.9607 - acc: 0.6656 - top_k_categorical_accuracy: 0.9697 - val_loss: 0.8247 - val_acc: 0.7130 - val_top_k_categorical_accuracy: 0.9773\n",
            "Epoch 17/20\n",
            "1563/1563 [==============================] - 83s 53ms/step - loss: 0.9403 - acc: 0.6720 - top_k_categorical_accuracy: 0.9701 - val_loss: 0.8114 - val_acc: 0.7192 - val_top_k_categorical_accuracy: 0.9786\n",
            "Epoch 18/20\n",
            "1563/1563 [==============================] - 83s 53ms/step - loss: 0.9207 - acc: 0.6789 - top_k_categorical_accuracy: 0.9726 - val_loss: 0.7824 - val_acc: 0.7301 - val_top_k_categorical_accuracy: 0.9802\n",
            "Epoch 19/20\n",
            "1563/1563 [==============================] - 81s 52ms/step - loss: 0.9023 - acc: 0.6860 - top_k_categorical_accuracy: 0.9735 - val_loss: 0.7726 - val_acc: 0.7338 - val_top_k_categorical_accuracy: 0.9816\n",
            "Epoch 20/20\n",
            "1563/1563 [==============================] - 81s 52ms/step - loss: 0.8884 - acc: 0.6890 - top_k_categorical_accuracy: 0.9754 - val_loss: 0.7426 - val_acc: 0.7415 - val_top_k_categorical_accuracy: 0.9836\n"
          ],
          "name": "stdout"
        }
      ]
    },
    {
      "metadata": {
        "id": "fQYiUlb8sDBO",
        "colab_type": "code",
        "outputId": "35d0290e-80c1-447e-b1ae-0f43d4787d7e",
        "colab": {
          "base_uri": "https://localhost:8080/",
          "height": 68
        }
      },
      "cell_type": "code",
      "source": [
        "# Save model and weights\n",
        "# if not os.path.isdir(save_dir):\n",
        "#     os.makedirs(save_dir)\n",
        "# model_path = os.path.join(save_dir, model_name)\n",
        "# model.save(model_path)\n",
        "# print('Saved trained model at %s ' % model_path)\n",
        "\n",
        "# Score trained model.\n",
        "scores = model.evaluate(x_test, y_test, verbose=1)\n",
        "print('Test loss:', scores[0])\n",
        "print('Test accuracy:', scores[1])"
      ],
      "execution_count": 7,
      "outputs": [
        {
          "output_type": "stream",
          "text": [
            "10000/10000 [==============================] - 1s 146us/step\n",
            "Test loss: 0.7426067984580994\n",
            "Test accuracy: 0.7415\n"
          ],
          "name": "stdout"
        }
      ]
    },
    {
      "metadata": {
        "id": "X21l-UeSsDBT",
        "colab_type": "code",
        "colab": {}
      },
      "cell_type": "code",
      "source": [
        ""
      ],
      "execution_count": 0,
      "outputs": []
    }
  ]
}