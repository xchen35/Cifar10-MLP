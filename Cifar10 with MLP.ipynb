{
 "cells": [
  {
   "cell_type": "code",
   "execution_count": 1,
   "metadata": {},
   "outputs": [
    {
     "name": "stderr",
     "output_type": "stream",
     "text": [
      "Using TensorFlow backend.\n"
     ]
    }
   ],
   "source": [
    "from __future__ import print_function\n",
    "import numpy as np\n",
    "import keras\n",
    "from keras.models import Sequential\n",
    "from keras.layers import Dense, Dropout\n",
    "from keras.optimizers import RMSprop"
   ]
  },
  {
   "cell_type": "code",
   "execution_count": 2,
   "metadata": {},
   "outputs": [],
   "source": [
    "def unpickle(file):\n",
    "    import pickle\n",
    "    with open(file, 'rb') as fo:\n",
    "        dict = pickle.load(fo, encoding='bytes')\n",
    "    return dict"
   ]
  },
  {
   "cell_type": "code",
   "execution_count": 3,
   "metadata": {},
   "outputs": [],
   "source": [
    "cifar10_1 = unpickle(\"cifar-10-batches-py/data_batch_1\")\n",
    "cifar10_2 = unpickle(\"cifar-10-batches-py/data_batch_2\")\n",
    "cifar10_3 = unpickle(\"cifar-10-batches-py/data_batch_3\")\n",
    "cifar10_4 = unpickle(\"cifar-10-batches-py/data_batch_4\")\n",
    "cifar10_5 = unpickle(\"cifar-10-batches-py/data_batch_5\")\n",
    "cifar10_test = unpickle(\"cifar-10-batches-py/test_batch\")"
   ]
  },
  {
   "cell_type": "code",
   "execution_count": 16,
   "metadata": {},
   "outputs": [],
   "source": [
    "cifar10_rgb = np.concatenate((cifar10_1[b'data'],cifar10_2[b'data'],cifar10_3[b'data'],cifar10_4[b'data'],cifar10_5[b'data']))\n",
    "cifar10_labels = np.concatenate((cifar10_1[b'labels'],cifar10_2[b'labels'],cifar10_3[b'labels'],cifar10_4[b'labels'],cifar10_5[b'labels']))"
   ]
  },
  {
   "cell_type": "code",
   "execution_count": 25,
   "metadata": {},
   "outputs": [],
   "source": [
    "#cifar10cifar10_1[b'data'].shape\n",
    "#cifar10_test\n",
    "\n",
    "cifar10_test_rgb = cifar10_test[b'data']\n",
    "cirfar10_test_labels = cifar10_test[b'labels']"
   ]
  },
  {
   "cell_type": "code",
   "execution_count": 26,
   "metadata": {},
   "outputs": [],
   "source": [
    "# setup base epochs and batach_size\n",
    "\n",
    "batch_size = 128\n",
    "num_classes = 10\n",
    "epochs = 8"
   ]
  },
  {
   "cell_type": "code",
   "execution_count": 27,
   "metadata": {},
   "outputs": [],
   "source": [
    "x_train, y_train, x_test, y_test = cifar10_rgb, cifar10_labels, cifar10_test_rgb, cirfar10_test_labels"
   ]
  },
  {
   "cell_type": "code",
   "execution_count": 28,
   "metadata": {},
   "outputs": [
    {
     "name": "stdout",
     "output_type": "stream",
     "text": [
      "50000 train samples\n",
      "10000 test samples\n"
     ]
    }
   ],
   "source": [
    "x_train = x_train.reshape(50000, 32 * 32 * 3)\n",
    "x_test = x_test.reshape(10000, 32 * 32 * 3)\n",
    "x_train = x_train.astype('float32')\n",
    "x_test = x_test.astype('float32')\n",
    "x_train /= 255\n",
    "x_test /= 255\n",
    "print(x_train.shape[0], 'train samples')\n",
    "print(x_test.shape[0], 'test samples')"
   ]
  },
  {
   "cell_type": "code",
   "execution_count": 29,
   "metadata": {},
   "outputs": [],
   "source": [
    "# convert class vectors to binary class matrices\n",
    "y_train = keras.utils.to_categorical(y_train, num_classes)\n",
    "y_test = keras.utils.to_categorical(y_test, num_classes)"
   ]
  },
  {
   "cell_type": "code",
   "execution_count": 30,
   "metadata": {},
   "outputs": [],
   "source": [
    "model = Sequential()\n",
    "act = keras.layers.ELU(alpha=1.0)\n",
    "model.add(Dense(256, activation=act, input_shape=(32 * 32 * 3,)))\n",
    "model.add(Dropout(0.2))\n",
    "model.add(Dense(256, activation=act))\n",
    "model.add(Dropout(0.2))\n",
    "model.add(Dense(num_classes, activation='softmax'))"
   ]
  },
  {
   "cell_type": "code",
   "execution_count": 31,
   "metadata": {},
   "outputs": [
    {
     "name": "stdout",
     "output_type": "stream",
     "text": [
      "_________________________________________________________________\n",
      "Layer (type)                 Output Shape              Param #   \n",
      "=================================================================\n",
      "dense_10 (Dense)             (None, 256)               786688    \n",
      "_________________________________________________________________\n",
      "dropout_7 (Dropout)          (None, 256)               0         \n",
      "_________________________________________________________________\n",
      "dense_11 (Dense)             (None, 256)               65792     \n",
      "_________________________________________________________________\n",
      "dropout_8 (Dropout)          (None, 256)               0         \n",
      "_________________________________________________________________\n",
      "dense_12 (Dense)             (None, 10)                2570      \n",
      "=================================================================\n",
      "Total params: 855,050\n",
      "Trainable params: 855,050\n",
      "Non-trainable params: 0\n",
      "_________________________________________________________________\n",
      "Train on 50000 samples, validate on 10000 samples\n",
      "Epoch 1/8\n",
      "50000/50000 [==============================] - 22s 450us/step - loss: 2.4700 - acc: 0.2107 - top_k_categorical_accuracy: 0.7035 - val_loss: 2.0139 - val_acc: 0.2924 - val_top_k_categorical_accuracy: 0.7878\n",
      "Epoch 2/8\n",
      "50000/50000 [==============================] - 18s 366us/step - loss: 1.9598 - acc: 0.3029 - top_k_categorical_accuracy: 0.8112 - val_loss: 1.8399 - val_acc: 0.3410 - val_top_k_categorical_accuracy: 0.8466\n",
      "Epoch 3/8\n",
      "50000/50000 [==============================] - 17s 340us/step - loss: 1.8280 - acc: 0.3449 - top_k_categorical_accuracy: 0.8469 - val_loss: 1.7143 - val_acc: 0.3804 - val_top_k_categorical_accuracy: 0.8686\n",
      "Epoch 4/8\n",
      "50000/50000 [==============================] - 16s 317us/step - loss: 1.7359 - acc: 0.3787 - top_k_categorical_accuracy: 0.8654 - val_loss: 1.6078 - val_acc: 0.4117 - val_top_k_categorical_accuracy: 0.8971\n",
      "Epoch 5/8\n",
      "50000/50000 [==============================] - 16s 325us/step - loss: 1.6676 - acc: 0.4034 - top_k_categorical_accuracy: 0.8822 - val_loss: 1.6152 - val_acc: 0.4362 - val_top_k_categorical_accuracy: 0.8927\n",
      "Epoch 6/8\n",
      "50000/50000 [==============================] - 17s 348us/step - loss: 1.6323 - acc: 0.4182 - top_k_categorical_accuracy: 0.8893 - val_loss: 1.5816 - val_acc: 0.4277 - val_top_k_categorical_accuracy: 0.8946\n",
      "Epoch 7/8\n",
      "50000/50000 [==============================] - 18s 352us/step - loss: 1.5926 - acc: 0.4316 - top_k_categorical_accuracy: 0.8975 - val_loss: 1.5462 - val_acc: 0.4420 - val_top_k_categorical_accuracy: 0.9069\n",
      "Epoch 8/8\n",
      "50000/50000 [==============================] - 18s 350us/step - loss: 1.5921 - acc: 0.4301 - top_k_categorical_accuracy: 0.8982 - val_loss: 1.6064 - val_acc: 0.4204 - val_top_k_categorical_accuracy: 0.9034\n",
      "Test loss: 1.6063574789047241\n",
      "Test accuracy: 0.4204\n"
     ]
    }
   ],
   "source": [
    "model.summary()\n",
    "from keras import metrics\n",
    "model.compile(loss='categorical_crossentropy',\n",
    "              optimizer=RMSprop(),\n",
    "              metrics=['accuracy', metrics.top_k_categorical_accuracy])\n",
    "\n",
    "history = model.fit(x_train, y_train,\n",
    "                    batch_size=batch_size,\n",
    "                    epochs=epochs,\n",
    "                    verbose=1,\n",
    "                    validation_data=(x_test, y_test))\n",
    "score = model.evaluate(x_test, y_test, verbose=0)\n",
    "print('Test loss:', score[0])\n",
    "print('Test accuracy:', score[1])"
   ]
  },
  {
   "cell_type": "code",
   "execution_count": null,
   "metadata": {},
   "outputs": [],
   "source": []
  }
 ],
 "metadata": {
  "kernelspec": {
   "display_name": "Python 3",
   "language": "python",
   "name": "python3"
  },
  "language_info": {
   "codemirror_mode": {
    "name": "ipython",
    "version": 3
   },
   "file_extension": ".py",
   "mimetype": "text/x-python",
   "name": "python",
   "nbconvert_exporter": "python",
   "pygments_lexer": "ipython3",
   "version": "3.6.8"
  }
 },
 "nbformat": 4,
 "nbformat_minor": 2
}
